{
 "cells": [
  {
   "cell_type": "code",
   "execution_count": 4,
   "metadata": {},
   "outputs": [],
   "source": [
    "def solve_artifacts(exception_id = \"888123948070591035\"):\n",
    "    try:\n",
    "        import mlflow, os, yaml\n",
    "\n",
    "        runs = mlflow.search_runs(experiment_ids=[exception_id])\n",
    "        exp_path = os.path.join(os.getcwd(), \"mlruns\", exception_id)\n",
    "\n",
    "        #Enternal exp yaml file\n",
    "        internal_yaml = os.path.join(exp_path, \"meta.yaml\")\n",
    "        with open(internal_yaml, \"r\") as f:\n",
    "            data = yaml.safe_load(f)\n",
    "\n",
    "        data[\"artifact_location\"] = f\"file:///{internal_yaml.replace(\" \", \"%20\").replace(\"\\\\\", \"/\")}\"\n",
    "\n",
    "        with open(internal_yaml, \"w\") as f:\n",
    "            data = yaml.dump(data, f)\n",
    "\n",
    "        for n, exp_id in enumerate(runs[\"experiment_id\"]):\n",
    "            exps_meta = os.path.join(exp_path, os.listdir(exp_path)[n], \"meta.yaml\")\n",
    "\n",
    "            # All internal Exps yaml file\n",
    "            with open(exps_meta, \"r\") as f:\n",
    "                data = yaml.safe_load(f)\n",
    "\n",
    "            data[\"artifact_uri\"] = f\"file:///{exps_meta.replace(\" \", \"%20\").replace(\"\\\\\", \"/\").replace(\"meta.yaml\", \"artifacts\")}\"\n",
    "\n",
    "            with open(exps_meta, \"w\") as f:\n",
    "                data = yaml.dump(data, f)\n",
    "        \n",
    "            \n",
    "    except Exception as error:\n",
    "        return error\n",
    "    \n",
    "    return \"All Done\""
   ]
  }
 ],
 "metadata": {
  "kernelspec": {
   "display_name": "mlop",
   "language": "python",
   "name": "python3"
  },
  "language_info": {
   "codemirror_mode": {
    "name": "ipython",
    "version": 3
   },
   "file_extension": ".py",
   "mimetype": "text/x-python",
   "name": "python",
   "nbconvert_exporter": "python",
   "pygments_lexer": "ipython3",
   "version": "3.12.1"
  }
 },
 "nbformat": 4,
 "nbformat_minor": 2
}
